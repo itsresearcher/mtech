{
 "cells": [
  {
   "cell_type": "markdown",
   "id": "79571037",
   "metadata": {},
   "source": [
    "### Импорт необходимых библиотек"
   ]
  },
  {
   "cell_type": "code",
   "execution_count": 1,
   "id": "a9ccc850-ebd1-467e-b4b3-3679e8434253",
   "metadata": {},
   "outputs": [],
   "source": [
    "import pandas as pd\n",
    "import matplotlib.pyplot as plt\n",
    "import seaborn as sns\n",
    "import statsmodels\n",
    "import statsmodels.api as sm\n",
    "from scipy.stats import shapiro\n",
    "from scipy.stats import anderson\n",
    "from scipy.stats import chi2_contingency"
   ]
  },
  {
   "cell_type": "markdown",
   "id": "fa392833",
   "metadata": {},
   "source": [
    "### Чтение данных"
   ]
  },
  {
   "cell_type": "markdown",
   "id": "209ad599-5650-4477-9a56-353adbc0a771",
   "metadata": {},
   "source": [
    "Немного подправим данные"
   ]
  },
  {
   "cell_type": "code",
   "execution_count": 2,
   "id": "dc8639d3",
   "metadata": {},
   "outputs": [],
   "source": [
    "data = pd.read_csv(\"М.Тех_Данные_к_ТЗ_DS.csv\", encoding='cp1251')\n",
    "data[['work_days', 'age', 'sex']] = data['Количество больничных дней,\"Возраст\",\"Пол\"'].str.split(',', expand=True)\n",
    "del data['Количество больничных дней,\"Возраст\",\"Пол\"']\n",
    "\n",
    "data['work_days'] = pd.to_numeric(data['work_days'])\n",
    "data['age'] = pd.to_numeric(data['age'])"
   ]
  },
  {
   "cell_type": "code",
   "execution_count": 3,
   "id": "710de1a9-f838-462d-9d4e-f07a1c1e7d53",
   "metadata": {},
   "outputs": [],
   "source": [
    "data['age_group'] = data['age'].apply(lambda x: '35 and younger' if x <= 35 else 'older than 35')\n",
    "data['encoded'] = data['sex'].apply(lambda x: 1 if x == '\"М\"' else 0)\n",
    "older_than_35_data = data[data['age'] > 35].reset_index(drop=True)\n",
    "younger_than_35_data = data[data['age'] <= 35].reset_index(drop=True)"
   ]
  },
  {
   "cell_type": "markdown",
   "id": "fd2fa3ca-5b54-4e49-a779-f078273fa84b",
   "metadata": {},
   "source": [
    "**Анализ данных**"
   ]
  },
  {
   "cell_type": "code",
   "execution_count": 4,
   "id": "4d8af949-f5cd-4168-859d-6f92fb33d847",
   "metadata": {},
   "outputs": [
    {
     "data": {
      "text/plain": [
       "work_days    False\n",
       "age          False\n",
       "sex          False\n",
       "age_group    False\n",
       "encoded      False\n",
       "dtype: bool"
      ]
     },
     "execution_count": 4,
     "metadata": {},
     "output_type": "execute_result"
    }
   ],
   "source": [
    "data.isnull().any()"
   ]
  },
  {
   "cell_type": "code",
   "execution_count": 5,
   "id": "ac4ace7c-3ee4-48a5-b853-e51b8fc2236d",
   "metadata": {},
   "outputs": [
    {
     "data": {
      "text/html": [
       "<div>\n",
       "<style scoped>\n",
       "    .dataframe tbody tr th:only-of-type {\n",
       "        vertical-align: middle;\n",
       "    }\n",
       "\n",
       "    .dataframe tbody tr th {\n",
       "        vertical-align: top;\n",
       "    }\n",
       "\n",
       "    .dataframe thead th {\n",
       "        text-align: right;\n",
       "    }\n",
       "</style>\n",
       "<table border=\"1\" class=\"dataframe\">\n",
       "  <thead>\n",
       "    <tr style=\"text-align: right;\">\n",
       "      <th></th>\n",
       "      <th>work_days</th>\n",
       "      <th>age</th>\n",
       "      <th>encoded</th>\n",
       "    </tr>\n",
       "  </thead>\n",
       "  <tbody>\n",
       "    <tr>\n",
       "      <th>count</th>\n",
       "      <td>139.000000</td>\n",
       "      <td>139.000000</td>\n",
       "      <td>139.0</td>\n",
       "    </tr>\n",
       "    <tr>\n",
       "      <th>mean</th>\n",
       "      <td>3.179856</td>\n",
       "      <td>39.899281</td>\n",
       "      <td>1.0</td>\n",
       "    </tr>\n",
       "    <tr>\n",
       "      <th>std</th>\n",
       "      <td>1.889144</td>\n",
       "      <td>6.797586</td>\n",
       "      <td>0.0</td>\n",
       "    </tr>\n",
       "    <tr>\n",
       "      <th>min</th>\n",
       "      <td>0.000000</td>\n",
       "      <td>23.000000</td>\n",
       "      <td>1.0</td>\n",
       "    </tr>\n",
       "    <tr>\n",
       "      <th>25%</th>\n",
       "      <td>2.000000</td>\n",
       "      <td>35.000000</td>\n",
       "      <td>1.0</td>\n",
       "    </tr>\n",
       "    <tr>\n",
       "      <th>50%</th>\n",
       "      <td>3.000000</td>\n",
       "      <td>41.000000</td>\n",
       "      <td>1.0</td>\n",
       "    </tr>\n",
       "    <tr>\n",
       "      <th>75%</th>\n",
       "      <td>4.000000</td>\n",
       "      <td>44.000000</td>\n",
       "      <td>1.0</td>\n",
       "    </tr>\n",
       "    <tr>\n",
       "      <th>max</th>\n",
       "      <td>8.000000</td>\n",
       "      <td>57.000000</td>\n",
       "      <td>1.0</td>\n",
       "    </tr>\n",
       "  </tbody>\n",
       "</table>\n",
       "</div>"
      ],
      "text/plain": [
       "        work_days         age  encoded\n",
       "count  139.000000  139.000000    139.0\n",
       "mean     3.179856   39.899281      1.0\n",
       "std      1.889144    6.797586      0.0\n",
       "min      0.000000   23.000000      1.0\n",
       "25%      2.000000   35.000000      1.0\n",
       "50%      3.000000   41.000000      1.0\n",
       "75%      4.000000   44.000000      1.0\n",
       "max      8.000000   57.000000      1.0"
      ]
     },
     "execution_count": 5,
     "metadata": {},
     "output_type": "execute_result"
    }
   ],
   "source": [
    "data[data['sex']=='\"М\"'].describe()"
   ]
  },
  {
   "cell_type": "code",
   "execution_count": 6,
   "id": "2b6c3385-0870-4191-ba9d-5ae4ced228ba",
   "metadata": {},
   "outputs": [
    {
     "data": {
      "text/html": [
       "<div>\n",
       "<style scoped>\n",
       "    .dataframe tbody tr th:only-of-type {\n",
       "        vertical-align: middle;\n",
       "    }\n",
       "\n",
       "    .dataframe tbody tr th {\n",
       "        vertical-align: top;\n",
       "    }\n",
       "\n",
       "    .dataframe thead th {\n",
       "        text-align: right;\n",
       "    }\n",
       "</style>\n",
       "<table border=\"1\" class=\"dataframe\">\n",
       "  <thead>\n",
       "    <tr style=\"text-align: right;\">\n",
       "      <th></th>\n",
       "      <th>work_days</th>\n",
       "      <th>age</th>\n",
       "      <th>encoded</th>\n",
       "    </tr>\n",
       "  </thead>\n",
       "  <tbody>\n",
       "    <tr>\n",
       "      <th>count</th>\n",
       "      <td>98.000000</td>\n",
       "      <td>98.000000</td>\n",
       "      <td>98.0</td>\n",
       "    </tr>\n",
       "    <tr>\n",
       "      <th>mean</th>\n",
       "      <td>3.367347</td>\n",
       "      <td>40.581633</td>\n",
       "      <td>0.0</td>\n",
       "    </tr>\n",
       "    <tr>\n",
       "      <th>std</th>\n",
       "      <td>1.689188</td>\n",
       "      <td>6.999151</td>\n",
       "      <td>0.0</td>\n",
       "    </tr>\n",
       "    <tr>\n",
       "      <th>min</th>\n",
       "      <td>0.000000</td>\n",
       "      <td>23.000000</td>\n",
       "      <td>0.0</td>\n",
       "    </tr>\n",
       "    <tr>\n",
       "      <th>25%</th>\n",
       "      <td>2.000000</td>\n",
       "      <td>36.000000</td>\n",
       "      <td>0.0</td>\n",
       "    </tr>\n",
       "    <tr>\n",
       "      <th>50%</th>\n",
       "      <td>3.000000</td>\n",
       "      <td>41.000000</td>\n",
       "      <td>0.0</td>\n",
       "    </tr>\n",
       "    <tr>\n",
       "      <th>75%</th>\n",
       "      <td>4.000000</td>\n",
       "      <td>45.000000</td>\n",
       "      <td>0.0</td>\n",
       "    </tr>\n",
       "    <tr>\n",
       "      <th>max</th>\n",
       "      <td>8.000000</td>\n",
       "      <td>60.000000</td>\n",
       "      <td>0.0</td>\n",
       "    </tr>\n",
       "  </tbody>\n",
       "</table>\n",
       "</div>"
      ],
      "text/plain": [
       "       work_days        age  encoded\n",
       "count  98.000000  98.000000     98.0\n",
       "mean    3.367347  40.581633      0.0\n",
       "std     1.689188   6.999151      0.0\n",
       "min     0.000000  23.000000      0.0\n",
       "25%     2.000000  36.000000      0.0\n",
       "50%     3.000000  41.000000      0.0\n",
       "75%     4.000000  45.000000      0.0\n",
       "max     8.000000  60.000000      0.0"
      ]
     },
     "execution_count": 6,
     "metadata": {},
     "output_type": "execute_result"
    }
   ],
   "source": [
    "data[data['sex']=='\"Ж\"'].describe()"
   ]
  },
  {
   "cell_type": "markdown",
   "id": "d7a455b8-b3ed-4d68-9448-0fbffc2ecbc0",
   "metadata": {},
   "source": [
    "Интуитивно, отличия небольшие в распределении больничных дней между мужчинами и женщинами."
   ]
  },
  {
   "cell_type": "code",
   "execution_count": 7,
   "id": "eb1d0be6-87cc-421f-af88-40e308ce031d",
   "metadata": {},
   "outputs": [
    {
     "data": {
      "text/html": [
       "<div>\n",
       "<style scoped>\n",
       "    .dataframe tbody tr th:only-of-type {\n",
       "        vertical-align: middle;\n",
       "    }\n",
       "\n",
       "    .dataframe tbody tr th {\n",
       "        vertical-align: top;\n",
       "    }\n",
       "\n",
       "    .dataframe thead th {\n",
       "        text-align: right;\n",
       "    }\n",
       "</style>\n",
       "<table border=\"1\" class=\"dataframe\">\n",
       "  <thead>\n",
       "    <tr style=\"text-align: right;\">\n",
       "      <th></th>\n",
       "      <th>work_days</th>\n",
       "      <th>age</th>\n",
       "      <th>encoded</th>\n",
       "    </tr>\n",
       "  </thead>\n",
       "  <tbody>\n",
       "    <tr>\n",
       "      <th>count</th>\n",
       "      <td>180.000000</td>\n",
       "      <td>180.000000</td>\n",
       "      <td>180.000000</td>\n",
       "    </tr>\n",
       "    <tr>\n",
       "      <th>mean</th>\n",
       "      <td>3.227778</td>\n",
       "      <td>43.022222</td>\n",
       "      <td>0.561111</td>\n",
       "    </tr>\n",
       "    <tr>\n",
       "      <th>std</th>\n",
       "      <td>1.783946</td>\n",
       "      <td>4.979237</td>\n",
       "      <td>0.497636</td>\n",
       "    </tr>\n",
       "    <tr>\n",
       "      <th>min</th>\n",
       "      <td>0.000000</td>\n",
       "      <td>36.000000</td>\n",
       "      <td>0.000000</td>\n",
       "    </tr>\n",
       "    <tr>\n",
       "      <th>25%</th>\n",
       "      <td>2.000000</td>\n",
       "      <td>39.000000</td>\n",
       "      <td>0.000000</td>\n",
       "    </tr>\n",
       "    <tr>\n",
       "      <th>50%</th>\n",
       "      <td>3.000000</td>\n",
       "      <td>42.000000</td>\n",
       "      <td>1.000000</td>\n",
       "    </tr>\n",
       "    <tr>\n",
       "      <th>75%</th>\n",
       "      <td>4.000000</td>\n",
       "      <td>46.000000</td>\n",
       "      <td>1.000000</td>\n",
       "    </tr>\n",
       "    <tr>\n",
       "      <th>max</th>\n",
       "      <td>8.000000</td>\n",
       "      <td>60.000000</td>\n",
       "      <td>1.000000</td>\n",
       "    </tr>\n",
       "  </tbody>\n",
       "</table>\n",
       "</div>"
      ],
      "text/plain": [
       "        work_days         age     encoded\n",
       "count  180.000000  180.000000  180.000000\n",
       "mean     3.227778   43.022222    0.561111\n",
       "std      1.783946    4.979237    0.497636\n",
       "min      0.000000   36.000000    0.000000\n",
       "25%      2.000000   39.000000    0.000000\n",
       "50%      3.000000   42.000000    1.000000\n",
       "75%      4.000000   46.000000    1.000000\n",
       "max      8.000000   60.000000    1.000000"
      ]
     },
     "execution_count": 7,
     "metadata": {},
     "output_type": "execute_result"
    }
   ],
   "source": [
    "older_than_35_data.describe()"
   ]
  },
  {
   "cell_type": "code",
   "execution_count": 8,
   "id": "fccf966f-680c-49f9-8400-73cb4b68c711",
   "metadata": {},
   "outputs": [
    {
     "data": {
      "text/html": [
       "<div>\n",
       "<style scoped>\n",
       "    .dataframe tbody tr th:only-of-type {\n",
       "        vertical-align: middle;\n",
       "    }\n",
       "\n",
       "    .dataframe tbody tr th {\n",
       "        vertical-align: top;\n",
       "    }\n",
       "\n",
       "    .dataframe thead th {\n",
       "        text-align: right;\n",
       "    }\n",
       "</style>\n",
       "<table border=\"1\" class=\"dataframe\">\n",
       "  <thead>\n",
       "    <tr style=\"text-align: right;\">\n",
       "      <th></th>\n",
       "      <th>work_days</th>\n",
       "      <th>age</th>\n",
       "      <th>encoded</th>\n",
       "    </tr>\n",
       "  </thead>\n",
       "  <tbody>\n",
       "    <tr>\n",
       "      <th>count</th>\n",
       "      <td>57.000000</td>\n",
       "      <td>57.000000</td>\n",
       "      <td>57.000000</td>\n",
       "    </tr>\n",
       "    <tr>\n",
       "      <th>mean</th>\n",
       "      <td>3.350877</td>\n",
       "      <td>31.210526</td>\n",
       "      <td>0.666667</td>\n",
       "    </tr>\n",
       "    <tr>\n",
       "      <th>std</th>\n",
       "      <td>1.894458</td>\n",
       "      <td>3.478181</td>\n",
       "      <td>0.475595</td>\n",
       "    </tr>\n",
       "    <tr>\n",
       "      <th>min</th>\n",
       "      <td>0.000000</td>\n",
       "      <td>23.000000</td>\n",
       "      <td>0.000000</td>\n",
       "    </tr>\n",
       "    <tr>\n",
       "      <th>25%</th>\n",
       "      <td>2.000000</td>\n",
       "      <td>29.000000</td>\n",
       "      <td>0.000000</td>\n",
       "    </tr>\n",
       "    <tr>\n",
       "      <th>50%</th>\n",
       "      <td>3.000000</td>\n",
       "      <td>32.000000</td>\n",
       "      <td>1.000000</td>\n",
       "    </tr>\n",
       "    <tr>\n",
       "      <th>75%</th>\n",
       "      <td>4.000000</td>\n",
       "      <td>34.000000</td>\n",
       "      <td>1.000000</td>\n",
       "    </tr>\n",
       "    <tr>\n",
       "      <th>max</th>\n",
       "      <td>8.000000</td>\n",
       "      <td>35.000000</td>\n",
       "      <td>1.000000</td>\n",
       "    </tr>\n",
       "  </tbody>\n",
       "</table>\n",
       "</div>"
      ],
      "text/plain": [
       "       work_days        age    encoded\n",
       "count  57.000000  57.000000  57.000000\n",
       "mean    3.350877  31.210526   0.666667\n",
       "std     1.894458   3.478181   0.475595\n",
       "min     0.000000  23.000000   0.000000\n",
       "25%     2.000000  29.000000   0.000000\n",
       "50%     3.000000  32.000000   1.000000\n",
       "75%     4.000000  34.000000   1.000000\n",
       "max     8.000000  35.000000   1.000000"
      ]
     },
     "execution_count": 8,
     "metadata": {},
     "output_type": "execute_result"
    }
   ],
   "source": [
    "younger_than_35_data.describe()"
   ]
  },
  {
   "cell_type": "markdown",
   "id": "88efc596-1d49-4883-bfb4-ff10a086c1cb",
   "metadata": {},
   "source": [
    "И с разделением по возрасту также. Визуализируем данные."
   ]
  },
  {
   "cell_type": "code",
   "execution_count": 9,
   "id": "210def57-a119-4b76-bbf0-dcf0a2426bf1",
   "metadata": {},
   "outputs": [
    {
     "data": {
      "image/png": "[encoded data removed]",
      "text/plain": [
       "<Figure size 640x480 with 1 Axes>"
      ]
     },
     "metadata": {},
     "output_type": "display_data"
    }
   ],
   "source": [
    "sns.histplot(data=data, x='work_days', hue='sex', bins=20, kde=True)\n",
    "plt.title('Гистограмма пропущенных дней по полу')\n",
    "plt.xlabel('Пропущенные дни')\n",
    "plt.ylabel('Частота')\n",
    "plt.show()"
   ]
  },
  {
   "cell_type": "code",
   "execution_count": 31,
   "id": "c7cb27cb-69a1-4b45-ae5a-b30d38f03403",
   "metadata": {},
   "outputs": [
    {
     "data": {
      "image/png": "[encoded data removed]",
      "text/plain": [
       "<Figure size 640x480 with 1 Axes>"
      ]
     },
     "metadata": {},
     "output_type": "display_data"
    }
   ],
   "source": [
    "sns.histplot(data=data, x='work_days', hue='age_group', bins=20, kde=True)\n",
    "plt.title('Гистограмма пропущенных дней в зависимости от возрастной группы')\n",
    "plt.xlabel('Пропущенные дни')\n",
    "plt.ylabel('Частота')\n",
    "plt.show()\n"
   ]
  },
  {
   "cell_type": "markdown",
   "id": "f5288ead-b456-494c-a116-1a9f8db9780e",
   "metadata": {},
   "source": [
    "Видно, что люди постарше чаще пропускают дни, причем во всех периодах, но это не обязательно значит, что вторая гипотеза верна."
   ]
  },
  {
   "cell_type": "code",
   "execution_count": 15,
   "id": "d124d139-ae1e-4e38-98ca-f86ee8e55c46",
   "metadata": {},
   "outputs": [
    {
     "data": {
      "image/png": "[encoded data removed]",
      "text/plain": [
       "<Figure size 640x480 with 1 Axes>"
      ]
     },
     "metadata": {},
     "output_type": "display_data"
    }
   ],
   "source": [
    "sns.boxplot(x='sex', y='work_days', data=data)\n",
    "plt.title('Ящик с усами пропущенных дней по полу')\n",
    "plt.show()"
   ]
  },
  {
   "cell_type": "code",
   "execution_count": 16,
   "id": "960d00a3-2a6e-4dbc-b32a-42392325afa6",
   "metadata": {},
   "outputs": [
    {
     "data": {
      "image/png": "[encoded data removed]",
      "text/plain": [
       "<Figure size 640x480 with 1 Axes>"
      ]
     },
     "metadata": {},
     "output_type": "display_data"
    }
   ],
   "source": [
    "sns.boxplot(x='age_group', y='work_days', data=data)\n",
    "plt.title('Ящик с усами пропущенных дней по возрасту')\n",
    "plt.show()"
   ]
  },
  {
   "cell_type": "code",
   "execution_count": 18,
   "id": "580215e9-aaa3-4b3d-8e0d-372065731b70",
   "metadata": {},
   "outputs": [
    {
     "data": {
      "text/plain": [
       "Text(0.5, 1.0, 'Тепловая карта корреляции')"
      ]
     },
     "execution_count": 18,
     "metadata": {},
     "output_type": "execute_result"
    },
    {
     "data": {
      "image/png": "[encoded data removed]",
      "text/plain": [
       "<Figure size 640x480 with 2 Axes>"
      ]
     },
     "metadata": {},
     "output_type": "display_data"
    }
   ],
   "source": [
    "correlation_matrix = data[['work_days', 'age', 'encoded']].corr()\n",
    "sns.heatmap(correlation_matrix, annot=True, cmap='coolwarm', fmt=\".2f\")\n",
    "plt.title('Тепловая карта корреляции')"
   ]
  },
  {
   "cell_type": "markdown",
   "id": "770af06b-f70b-463c-a89e-72e97174cc0d",
   "metadata": {},
   "source": [
    "Нет особой корреляции между признаками."
   ]
  },
  {
   "cell_type": "markdown",
   "id": "19c53c72-79b4-43bb-be5a-f5b927886b8d",
   "metadata": {},
   "source": [
    "**Проверка данных на нормальность**"
   ]
  },
  {
   "cell_type": "markdown",
   "id": "43cced28-5d81-4ec4-803d-2ecf13817e7d",
   "metadata": {},
   "source": [
    "Так как нам необходимо будет тестировать гипотезы, хорошо бы было проверить данные на нормальное распределение. Используем критерий Андерсона-Дарлинга и Шапиро-Уилка."
   ]
  },
  {
   "cell_type": "markdown",
   "id": "bf5c9a10-eb95-41fb-8a87-97b970276ed8",
   "metadata": {},
   "source": [
    "Тест Андерсона-Дарлинга для проверки на нормальность распределения данных больничных дней мужчин и женщин:"
   ]
  },
  {
   "cell_type": "code",
   "execution_count": 19,
   "id": "00af20c2-00a9-488d-b55e-3db5be59eae7",
   "metadata": {},
   "outputs": [
    {
     "name": "stdout",
     "output_type": "stream",
     "text": [
      "Статистика = 1.8820469183320228\n",
      "Критические значения = [0.555 0.632 0.758 0.884 1.052]\n",
      "Уровни значимости = [15.  10.   5.   2.5  1. ]\n",
      "Нулевая гипотеза отвергнута. Данные не являются нормально распределенными.\n"
     ]
    }
   ],
   "source": [
    "result = anderson(data[data['sex'] == '\"Ж\"']['work_days'])\n",
    "\n",
    "print(\"Статистика =\", result.statistic)\n",
    "print(\"Критические значения =\", result.critical_values)\n",
    "print(\"Уровни значимости =\", result.significance_level)\n",
    "\n",
    "# Проверка на нормальность с использованием уровня значимости 0.05\n",
    "if result.statistic < result.critical_values[2]:\n",
    "    print(\"Не удалось отвергнуть нулевую гипотезу. Данные могут быть нормально распределены.\")\n",
    "else:\n",
    "    print(\"Нулевая гипотеза отвергнута. Данные не являются нормально распределенными.\")\n"
   ]
  },
  {
   "cell_type": "code",
   "execution_count": 20,
   "id": "d6c34bb7-3581-4b58-a496-7948426e8232",
   "metadata": {},
   "outputs": [
    {
     "name": "stdout",
     "output_type": "stream",
     "text": [
      "Статистика = 2.7959309619677413\n",
      "Критические значения = [0.561 0.638 0.766 0.893 1.063]\n",
      "Уровни значимости = [15.  10.   5.   2.5  1. ]\n",
      "Нулевая гипотеза отвергнута. Данные не являются нормально распределенными.\n"
     ]
    }
   ],
   "source": [
    "result = anderson(data[data['sex'] == '\"М\"']['work_days'])\n",
    "\n",
    "print(\"Статистика =\", result.statistic)\n",
    "print(\"Критические значения =\", result.critical_values)\n",
    "print(\"Уровни значимости =\", result.significance_level)\n",
    "\n",
    "# Проверка на нормальность с использованием уровня значимости 0.05\n",
    "if result.statistic < result.critical_values[2]:\n",
    "    print(\"Не удалось отвергнуть нулевую гипотезу. Данные могут быть нормально распределены.\")\n",
    "else:\n",
    "    print(\"Нулевая гипотеза отвергнута. Данные не являются нормально распределенными.\")\n"
   ]
  },
  {
   "cell_type": "markdown",
   "id": "4f41f35a-7ea7-4642-951c-bba989ef9ef3",
   "metadata": {},
   "source": [
    "ни для мужчин, ни для женщин распределение больничных дней не является нормальным"
   ]
  },
  {
   "cell_type": "code",
   "execution_count": 21,
   "id": "3730fa4b-db25-4440-a189-6398a6f30eb1",
   "metadata": {},
   "outputs": [
    {
     "name": "stdout",
     "output_type": "stream",
     "text": [
      "Статистика = 1.1636592227668814\n",
      "Критические значения = [0.542 0.617 0.741 0.864 1.028]\n",
      "Уровни значимости = [15.  10.   5.   2.5  1. ]\n",
      "Нулевая гипотеза отвергнута. Данные не являются нормально распределенными.\n"
     ]
    }
   ],
   "source": [
    "result = anderson(younger_than_35_data['work_days'])\n",
    "\n",
    "print(\"Статистика =\", result.statistic)\n",
    "print(\"Критические значения =\", result.critical_values)\n",
    "print(\"Уровни значимости =\", result.significance_level)\n",
    "\n",
    "# Проверка на нормальность с использованием уровня значимости 0.05\n",
    "if result.statistic < result.critical_values[2]:\n",
    "    print(\"Не удалось отвергнуть нулевую гипотезу. Данные могут быть нормально распределены.\")\n",
    "else:\n",
    "    print(\"Нулевая гипотеза отвергнута. Данные не являются нормально распределенными.\")"
   ]
  },
  {
   "cell_type": "code",
   "execution_count": 22,
   "id": "28da241a-c596-4a43-b40c-e90a14af8293",
   "metadata": {},
   "outputs": [
    {
     "name": "stdout",
     "output_type": "stream",
     "text": [
      "Статистика = 3.2806061716220825\n",
      "Критические значения = [0.564 0.642 0.77  0.899 1.069]\n",
      "Уровни значимости = [15.  10.   5.   2.5  1. ]\n",
      "Нулевая гипотеза отвергнута. Данные не являются нормально распределенными.\n"
     ]
    }
   ],
   "source": [
    "result = anderson(older_than_35_data['work_days'])\n",
    "\n",
    "print(\"Статистика =\", result.statistic)\n",
    "print(\"Критические значения =\", result.critical_values)\n",
    "print(\"Уровни значимости =\", result.significance_level)\n",
    "\n",
    "# Проверка на нормальность с использованием уровня значимости 0.05\n",
    "if result.statistic < result.critical_values[2]:\n",
    "    print(\"Не удалось отвергнуть нулевую гипотезу. Данные могут быть нормально распределены.\")\n",
    "else:\n",
    "    print(\"Нулевая гипотеза отвергнута. Данные не являются нормально распределенными.\")"
   ]
  },
  {
   "cell_type": "markdown",
   "id": "0fa706ea-2530-4d16-bc82-00306f1de710",
   "metadata": {},
   "source": [
    "Та же самая картина и для разделения на тех кто старше 35, и других"
   ]
  },
  {
   "cell_type": "markdown",
   "id": "85471e60-e0fb-45fa-9a96-49d812a391a1",
   "metadata": {},
   "source": [
    "Критерий Шапиро-Уилка"
   ]
  },
  {
   "cell_type": "code",
   "execution_count": 23,
   "id": "19b1a0fa-7d36-4694-9df6-81aa8a1a9965",
   "metadata": {},
   "outputs": [
    {
     "name": "stdout",
     "output_type": "stream",
     "text": [
      "Статистика теста: 0.9504905343055725\n",
      "P-value: 6.302908332145307e-06\n",
      "Есть статистически значимые отличия от нормального распределения (гипотеза о нормальности отвергается).\n"
     ]
    }
   ],
   "source": [
    "# Проверка на нормальность\n",
    "stat, p_value = shapiro(older_than_35_data['work_days'])\n",
    "\n",
    "\n",
    "print(f\"Статистика теста: {stat}\")\n",
    "print(f\"P-value: {p_value}\")\n",
    "\n",
    "\n",
    "if p_value > 0.05:\n",
    "    print(\"Распределение не отличается от нормального (гипотеза о нормальности принимается).\")\n",
    "else:\n",
    "    print(\"Есть статистически значимые отличия от нормального распределения (гипотеза о нормальности отвергается).\")\n"
   ]
  },
  {
   "cell_type": "code",
   "execution_count": 24,
   "id": "20a49624-a0e1-4489-813f-677e510456b0",
   "metadata": {},
   "outputs": [
    {
     "name": "stdout",
     "output_type": "stream",
     "text": [
      "Статистика теста: 0.9431787133216858\n",
      "P-value: 0.009758980944752693\n",
      "Есть статистически значимые отличия от нормального распределения (гипотеза о нормальности отвергается).\n"
     ]
    }
   ],
   "source": [
    "# Проверка на нормальность\n",
    "stat, p_value = shapiro(younger_than_35_data['work_days'])\n",
    "\n",
    "print(f\"Статистика теста: {stat}\")\n",
    "print(f\"P-value: {p_value}\")\n",
    "\n",
    "if p_value > 0.05:\n",
    "    print(\"Распределение не отличается от нормального (гипотеза о нормальности принимается).\")\n",
    "else:\n",
    "    print(\"Есть статистически значимые отличия от нормального распределения (гипотеза о нормальности отвергается).\")\n"
   ]
  },
  {
   "cell_type": "code",
   "execution_count": 25,
   "id": "ab3a5a1b-72d8-4d74-9d55-d1e33737c78f",
   "metadata": {},
   "outputs": [
    {
     "name": "stdout",
     "output_type": "stream",
     "text": [
      "Статистика теста: 0.949133038520813\n",
      "P-value: 0.000837337807752192\n",
      "Есть статистически значимые отличия от нормального распределения (гипотеза о нормальности отвергается).\n"
     ]
    }
   ],
   "source": [
    "data_female = data[data['sex'] == '\"Ж\"']['work_days']\n",
    "\n",
    "# Проверка на нормальность\n",
    "stat, p_value = shapiro(data_female)\n",
    "\n",
    "print(f\"Статистика теста: {stat}\")\n",
    "print(f\"P-value: {p_value}\")\n",
    "\n",
    "if p_value > 0.05:\n",
    "    print(\"Распределение не отличается от нормального (гипотеза о нормальности принимается).\")\n",
    "else:\n",
    "    print(\"Есть статистически значимые отличия от нормального распределения (гипотеза о нормальности отвергается).\")\n"
   ]
  },
  {
   "cell_type": "code",
   "execution_count": 26,
   "id": "12882e1d-bc60-4d2e-bdb7-7ec8ea36d05e",
   "metadata": {},
   "outputs": [
    {
     "name": "stdout",
     "output_type": "stream",
     "text": [
      "Статистика теста: 0.940927267074585\n",
      "P-value: 1.3018380741414148e-05\n",
      "Есть статистически значимые отличия от нормального распределения (гипотеза о нормальности отвергается).\n"
     ]
    }
   ],
   "source": [
    "data_male = data[data['sex'] == '\"М\"']['work_days']\n",
    "\n",
    "# Проверка на нормальность\n",
    "stat, p_value = shapiro(data_male)\n",
    "\n",
    "print(f\"Статистика теста: {stat}\")\n",
    "print(f\"P-value: {p_value}\")\n",
    "\n",
    "if p_value > 0.05:\n",
    "    print(\"Распределение не отличается от нормального (гипотеза о нормальности принимается).\")\n",
    "else:\n",
    "    print(\"Есть статистически значимые отличия от нормального распределения (гипотеза о нормальности отвергается).\")\n"
   ]
  },
  {
   "cell_type": "markdown",
   "id": "7a0aa697-e387-4c04-8305-70b29cb3b7e1",
   "metadata": {},
   "source": [
    "Стало ясно, что больничные дни распределены не нормально, но есть тесты которые все же можно сделать."
   ]
  },
  {
   "cell_type": "markdown",
   "id": "1c2c5d00-fc7f-474e-8d86-9a7a6ad03723",
   "metadata": {},
   "source": [
    "Так как нам нужно проверить гипотезу о том что мужчины в течение года берут больничный более двух рабочих дней значимо чаще чем женщины, то нужно будет работать с долями. то есть нам не важно пропустил ли человек 3 дня или 7 дней. 0 если человек взял больничный меньше или равный 2 дням, и 1 если больше. получатся доли, и для таких данных лучше всего подойдет двухпорционный Z test и критерий Хи-квадрат."
   ]
  },
  {
   "cell_type": "markdown",
   "id": "940287ff-da70-4c04-8382-d0fded29c16d",
   "metadata": {},
   "source": [
    "**Тестирование**"
   ]
  },
  {
   "cell_type": "markdown",
   "id": "4881e6ee-0923-4e6e-8283-826811ec103b",
   "metadata": {},
   "source": [
    "создадим таблицы сопряженности и используем их для тестов"
   ]
  },
  {
   "cell_type": "markdown",
   "id": "fb91bd4c-1142-4282-bec3-5b1df2e9826d",
   "metadata": {},
   "source": [
    "Z тест"
   ]
  },
  {
   "cell_type": "code",
   "execution_count": 27,
   "id": "4cc784d2-3fae-4aba-9e80-6a823caab728",
   "metadata": {},
   "outputs": [
    {
     "name": "stdout",
     "output_type": "stream",
     "text": [
      "Z-статистика: -1.9133130364809352\n",
      "p-значение: 0.9721460050987557\n",
      "Нет статистически значимых доказательств того, что мужчины пропускают более 2 дней чаще, чем женщины.\n"
     ]
    }
   ],
   "source": [
    "import statsmodels.api as sm\n",
    "import pandas as pd\n",
    "\n",
    "contingency_gender = pd.crosstab(data['sex'], data['work_days'] > 2)\n",
    "\n",
    "prop_women = contingency_gender.iloc[0, 1] / contingency_gender.iloc[0].sum()\n",
    "\n",
    "z_stat, p_value = sm.stats.proportions_ztest(count=contingency_gender.iloc[1, 1],      \n",
    "                                             nobs=contingency_gender.iloc[1].sum(),  \n",
    "                                             alternative='larger',                   \n",
    "                                             value=prop_women)                       \n",
    "\n",
    "print(f\"Z-статистика: {z_stat}\")\n",
    "print(f\"p-значение: {p_value}\")\n",
    "\n",
    "alpha = 0.05\n",
    "if p_value < alpha:\n",
    "    print(\"Отклоняем нулевую гипотезу в пользу альтернативной: мужчины пропускают более 2 дней чаще, чем женщины.\")\n",
    "else:\n",
    "    print(\"Нет статистически значимых доказательств того, что мужчины пропускают более 2 дней чаще, чем женщины.\")\n"
   ]
  },
  {
   "cell_type": "code",
   "execution_count": 28,
   "id": "7fd51dad-f630-4d0c-8fe6-363504555726",
   "metadata": {},
   "outputs": [
    {
     "name": "stdout",
     "output_type": "stream",
     "text": [
      "Z-статистика для возраста: 0.20418181583363315\n",
      "p-значение для возраста: 0.41910571044332856\n",
      "Нет статистически значимых доказательств того, что старшие работники пропускают более 2 дней чаще, чем молодые.\n"
     ]
    }
   ],
   "source": [
    "\n",
    "contingency_age = pd.crosstab(data['age'], data['work_days'] > 2)\n",
    "prop_young = len(data[(data['age'] <= 35) & (data['work_days'] > 2)]) / len(data[(data['age'] <= 35)])\n",
    "\n",
    "\n",
    "z_stat_age, p_value_age = sm.stats.proportions_ztest(count=len(data[(data['age'] > 35) & (data['work_days'] > 2)]),    # количество старших работников, пропускающих более 2 дней\n",
    "                                             nobs=len(data[(data['age'] > 35)]),         # общее количество старших работников\n",
    "                                             alternative='larger',                      # односторонняя альтернатива (больше)\n",
    "                                             value=prop_young)                          # доля молодых работников, берущих больничный более 2 дней\n",
    "\n",
    "print(f\"Z-статистика для возраста: {z_stat_age}\")\n",
    "print(f\"p-значение для возраста: {p_value_age}\")\n",
    "\n",
    "alpha_age = 0.05\n",
    "if p_value_age < alpha_age:\n",
    "    print(\"Отклоняем нулевую гипотезу в пользу альтернативной: старшие работники пропускают более 2 дней чаще, чем молодые.\")\n",
    "else:\n",
    "    print(\"Нет статистически значимых доказательств того, что старшие работники пропускают более 2 дней чаще, чем молодые.\")\n"
   ]
  },
  {
   "cell_type": "markdown",
   "id": "7729e965-d4d0-403c-a439-653ddbd41ad9",
   "metadata": {},
   "source": [
    "Хи квадрат"
   ]
  },
  {
   "cell_type": "code",
   "execution_count": 4,
   "id": "f1005338-9096-4558-84e2-e161ffa18797",
   "metadata": {},
   "outputs": [
    {
     "name": "stdout",
     "output_type": "stream",
     "text": [
      "Chi-Square Statistic: 1.2411765105088264\n",
      "P-value: 0.26524443198654923\n",
      "Degrees of Freedom: 1\n",
      "Expected Frequencies Table:\n",
      "[[35.56118143 62.43881857]\n",
      " [50.43881857 88.56118143]]\n"
     ]
    }
   ],
   "source": [
    "contingency_table = pd.crosstab(data['sex'],data['work_days']>2)\n",
    "chi2_stat, p_value, dof, expected = chi2_contingency(contingency_table)\n",
    "print(\"Chi-Square Statistic:\", chi2_stat)\n",
    "print(\"P-value:\", p_value)\n",
    "print(\"Degrees of Freedom:\", dof)\n",
    "print(\"Expected Frequencies Table:\")\n",
    "print(expected)"
   ]
  },
  {
   "cell_type": "code",
   "execution_count": 5,
   "id": "781e1c0a-aa56-4fdf-9373-fb46a80da760",
   "metadata": {},
   "outputs": [
    {
     "name": "stdout",
     "output_type": "stream",
     "text": [
      "Chi-Square Statistic: 0.0\n",
      "P-value: 1.0\n",
      "Degrees of Freedom: 1\n",
      "Expected Frequencies Table:\n",
      "[[ 36.3164557  20.6835443]\n",
      " [114.6835443  65.3164557]]\n"
     ]
    }
   ],
   "source": [
    "print('Относительно возраста')\n",
    "contingency_age = pd.crosstab(data['age_group'], data['work_days'] > 2)\n",
    "chi2_stat_age, p_value_age, dof_age, expected_age = chi2_contingency(contingency_age)\n",
    "print(\"Chi-Square Statistic:\", chi2_stat_age)\n",
    "print(\"P-value:\", p_value_age)\n",
    "print(\"Degrees of Freedom:\", dof_age)\n",
    "print(\"Expected Frequencies Table:\")\n",
    "print(expected_age)\n"
   ]
  },
  {
   "cell_type": "markdown",
   "id": "7fc65ce6-f997-420c-954e-13f9be67650a",
   "metadata": {},
   "source": [
    "Таким образом, с большой уверенностью можно **отклонить обе гипотезы**"
   ]
  }
 ],
 "metadata": {
  "kernelspec": {
   "display_name": "Python 3 (ipykernel)",
   "language": "python",
   "name": "python3"
  },
  "language_info": {
   "codemirror_mode": {
    "name": "ipython",
    "version": 3
   },
   "file_extension": ".py",
   "mimetype": "text/x-python",
   "name": "python",
   "nbconvert_exporter": "python",
   "pygments_lexer": "ipython3",
   "version": "3.12.0"
  }
 },
 "nbformat": 4,
 "nbformat_minor": 5
}
